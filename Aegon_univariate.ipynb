{
 "cells": [
  {
   "cell_type": "code",
   "execution_count": null,
   "id": "5c220c18",
   "metadata": {},
   "outputs": [],
   "source": [
    "import sys\n",
    "\n",
    "!{sys.executable} -m pip install keyring artifacts-keyring\n",
    "!{sys.executable} -m pip install --pre --upgrade --trusted-host pkgs.dev.azure.com --trusted-host pypi.org --trusted-host \"*.blob.core.windows.net\" --trusted-host files.pythonhosted.org --extra-index-url https://pkgs.dev.azure.com/mathco-products/_packaging/pip-codex-wf%40Local/pypi/simple/ \"codex-widget-factory<=0.1\"\n",
    "\n"
   ]
  },
  {
   "cell_type": "code",
   "execution_count": null,
   "id": "310b6057",
   "metadata": {},
   "outputs": [],
   "source": [
    "# tags to identify this iteration when submitted\n",
    "# example: codex_tags = {'env': 'dev', 'region': 'USA', 'product_category': 'A'}\n",
    "\n",
    "codex_tags = {\n",
    "}\n",
    "\n",
    "from codex_widget_factory import utils\n",
    "results_json=[]\n",
    "\n",
    "import pandas as pd\n",
    "import numpy as np"
   ]
  },
  {
   "cell_type": "markdown",
   "id": "f9e4ded9",
   "metadata": {},
   "source": [
    "## Ingestion File System"
   ]
  },
  {
   "cell_type": "code",
   "execution_count": null,
   "id": "43b5bc80",
   "metadata": {},
   "outputs": [],
   "source": [
    "#Begin code here\n",
    "#File ingestion from azure blob storage using connection credentials\n",
    "\n",
    "from codex_widget_factory.ingestion.file_system import get_ingested_data as ingestion_file_system_get_ingested_data\n",
    "\n",
    "response_0 = ingestion_file_system_get_ingested_data(file_path='Sales_Data.csv',\n",
    "                                                     datasource_type='azure_blob_storage',\n",
    "                                                     connection_uri='DefaultEndpointsProtocol=https;AccountName=coach;AccountKey=qtMAw9Z1T+1oOl+joMwfzdvnR0exMA4Qw50vniiaXOFvpOeFG7TP+g+DP4/iU7VKAUhirSpzrESvjF3U2Ld0KA==;EndpointSuffix=core.windows.net',\n",
    "                                                     container_name='ddrs11/aegon_nischal')\n",
    "results_json.append({\n",
    "                        'type': 'Ingestion',\n",
    "                        'name': 'File System',\n",
    "                        'component': 'get_ingested_data',\n",
    "                        'visual_results': utils.get_response_visuals(response_0),\n",
    "                        'metrics': False\n",
    "                    })\n",
    "\n",
    "\n",
    "display (response_0)\n",
    "\n",
    "#END WIDGET CODE\n"
   ]
  },
  {
   "cell_type": "markdown",
   "id": "992f7940",
   "metadata": {},
   "source": [
    "## Custom data Cleaning\n"
   ]
  },
  {
   "cell_type": "code",
   "execution_count": null,
   "id": "0c56a111",
   "metadata": {},
   "outputs": [],
   "source": [
    "#BEGIN CUSTOM CODE BELOW...\n",
    "\n",
    "\n",
    "# asking python to read the given values as missing values/ null values.\n",
    "missing_value = [\"nan\",\"#DIV/0!\",'Missing Values','Missing',' ','-','NA','N/A','NaN','na','#ref', np.nan] \n",
    "\n",
    "#response_0 = pd.read_csv('Sales_Data.csv', na_values = missing_value)\n",
    "response_0 = response_0.replace([\"nan\",\"#DIV/0!\",'Missing Values','Missing',' ','-','NA','N/A','NaN','na','#ref'],[np.nan]*11)\n",
    "\n",
    "#Finding which columns has missing values\n",
    "print('Columns and corresponding null values are:\\n', response_0.isnull().sum().sort_values(ascending = False))\n",
    "\n",
    "# Filling the NULL values in 'broker_percentage_lost_2yrs' with mean \n",
    "response_0['broker_percentage_lost_2yrs'].fillna(8.077246e+01,inplace = True)\n",
    "\n",
    "# Finding mode values to fill na values in,'Gen_Channel', 'MTP_Channel','primary' columns\n",
    "gen_channel = response_0['Gen_Channel'].mode()\n",
    "mtp_channel= response_0['MTP_Channel'].mode()\n",
    "primary= response_0['Primary_Excess'].mode()\n",
    "\n",
    "#Filling null values for 'Gen_Channel', 'MTP_Channel' & 'Primary_Excess'\n",
    "response_0['Gen_Channel'].fillna(gen_channel.values[0],inplace = True)\n",
    "response_0['MTP_Channel'].fillna(mtp_channel.values[0],inplace = True)\n",
    "response_0['Primary_Excess'].fillna(primary.values[0],inplace = True)\n",
    "\n",
    "#Checking if any null values exist\n",
    "print('After DATA CLEANING:\\n The Sum of Null Values In The Data Set is:', response_0.isnull().sum().sum())\n",
    "\n",
    "#dropping duplicate values\n",
    "response_0=pd.concat([response_0[\"Opportunity_18_ID\"].to_frame(),response_0.iloc[:,1:].drop_duplicates()],axis=1).dropna()\n",
    "\n",
    "#changing the format of date column from string to datetime\n",
    "response_0['Inception_Renewal_Date'] = pd.to_datetime(response_0['Inception_Renewal_Date'])\n",
    "\n",
    "#put your output in this response param for connecting to downstream widgets\n",
    "response_1 = response_0\n",
    "\n",
    "#END CUSTOM CODE\n",
    "\n"
   ]
  },
  {
   "cell_type": "markdown",
   "id": "c460f899",
   "metadata": {},
   "source": [
    "## Transformation Remove Outliers"
   ]
  },
  {
   "cell_type": "code",
   "execution_count": null,
   "id": "276104cd",
   "metadata": {},
   "outputs": [],
   "source": [
    "#BEGIN WIDGET CODE BELOW...\n",
    "# This function removes the outliers that are present in the column/dataset\n",
    "# Based on the interquartile range or replaces them with NaNs.\n",
    "    \n",
    "\n",
    "from codex_widget_factory.transformation.remove_outliers import get_transformed_data as transformation_remove_outliers_get_transformed_data\n",
    "response_2 = transformation_remove_outliers_get_transformed_data(df = response_1, dep_var = 'Won',col_names = ['gwp_lost_2yrs','gwp_won_2yrs','num_won_2yrs','num_lost_2yrs','num_uniqprod_2yrs','num_won_2yrs',\n",
    "                                                                                                               'num_lost_2yrs','num_wonnew_2yrs','num_quot_2yrs','num_existing','broker_contact_num_won_2yrs',\n",
    "                                                                                                               'broker_contact_days_since_last_lost','quot_not_won','num_lost_wo_subreceieved_2yrs',\n",
    "                                                                                                               'num_lost_postsub_2yrs','num_lost_postquot_2yrs','broker_days_since_last_won','broker_num_won_2yrs'])\n",
    "results_json.append({\n",
    "                      'type': 'Transformation',\n",
    "                      'name': 'Remove Outliers',\n",
    "                      'component': 'get_transformed_data',\n",
    "                      'visual_results': utils.get_response_visuals(response_2),\n",
    "                      'metrics': False\n",
    "                    })\n",
    "display(response_2)\n",
    "\n",
    "#utils.render_response(response_2)\n",
    "\n",
    "#END WIDGET CODE\n",
    "\n",
    "\n"
   ]
  },
  {
   "cell_type": "markdown",
   "id": "c7684265",
   "metadata": {},
   "source": [
    "## Exploration Univariate Analysis\n"
   ]
  },
  {
   "cell_type": "code",
   "execution_count": null,
   "id": "d4d0bc22",
   "metadata": {},
   "outputs": [],
   "source": [
    "#BEGIN WIDGET CODE BELOW...\n",
    "#univariate analysis using co.dx widget\n",
    "\n",
    "#exclude date type column\n",
    "response_num = response_1.select_dtypes(exclude = ['<M8[ns]',object]) \n",
    "\n",
    "from codex_widget_factory.exploration_analysis.univariate_report import summary as exploration_analysis_univariate_report_summary\n",
    "\n",
    "response_3 = exploration_analysis_univariate_report_summary(response_num)\n",
    "response_3= {'Histogram_Plots':response_3['Histogram Distribution']}\n",
    "\n",
    "results_json.append({\n",
    "                      'type': 'Exploration Analysis',\n",
    "                      'name': 'Univariate Report',\n",
    "                      'component': 'summary',\n",
    "                      'visual_results': utils.get_response_visuals(response_3),\n",
    "                      'metrics': False\n",
    "                    })\n",
    "utils.render_response(response_3)\n",
    "\n",
    "#END WIDGET CODE\n"
   ]
  },
  {
   "cell_type": "markdown",
   "id": "b75f4755",
   "metadata": {},
   "source": [
    "## Exploration Univariate Categorical "
   ]
  },
  {
   "cell_type": "code",
   "execution_count": null,
   "id": "435b05dd",
   "metadata": {},
   "outputs": [],
   "source": [
    "#BEGIN CUSTOM CODE BELOW...\n",
    "#custom code to plot univariate plotly graphs \n",
    "import plotly.express as px\n",
    "\n",
    "def custom_hist(dataframe,column):\n",
    "    \"\"\"\n",
    "    Univariate Analysis for categorical variables\n",
    "    \n",
    "    Parameters:\n",
    "    data frame:Enter the data frame of required columns\n",
    "    column:Enter the column names of required factors\n",
    "    \n",
    "    Returns:\n",
    "    Univariate charts for the given list of factors\n",
    "    \n",
    "    \"\"\"\n",
    "    df = dataframe.copy()\n",
    "    fig = px.histogram(df, x=column)\n",
    "    return fig\n",
    "\n",
    "#Tuple of required factors for univariate graphs\n",
    "categorical_factors=('Industry','Product','Type','Business_Type','OppCountry','Appetite','Won','Gen_Channel')\n",
    "\n",
    "    \n",
    "def univariate(element):\n",
    "    \"\"\"\n",
    "    Univariate Analysis\n",
    "    \n",
    "    Parameters:\n",
    "    element:It iterates each element from tuple \n",
    "    \n",
    "    Returns:\n",
    "    Iterates and returns univariate chart for the given list of attributes \n",
    "    \n",
    "    \"\"\"\n",
    "    fig = custom_hist(response_2,element)\n",
    "\n",
    "    results_json.append({\n",
    "                         'type': 'Exploration Analysis',\n",
    "                          'name': 'Univariate Report',\n",
    "                          'component': 'Histogram_' +str(element),\n",
    "                          'visual_results': utils.get_response_visuals({element:fig}),\n",
    "                          'metrics': False\n",
    "                        })\n",
    "    utils.render_response(fig)\n",
    "    \n",
    "response_4=list(map(univariate,categorical_factors))\n",
    "\n",
    "\n",
    "\n",
    "\n",
    "#END CUSTOM CODE\n",
    "\n"
   ]
  }
 ],
 "metadata": {
  "kernelspec": {
   "display_name": "Python 3 (ipykernel)",
   "language": "python",
   "name": "python3"
  },
  "language_info": {
   "codemirror_mode": {
    "name": "ipython",
    "version": 3
   },
   "file_extension": ".py",
   "mimetype": "text/x-python",
   "name": "python",
   "nbconvert_exporter": "python",
   "pygments_lexer": "ipython3",
   "version": "3.7.5"
  }
 },
 "nbformat": 4,
 "nbformat_minor": 5
}
